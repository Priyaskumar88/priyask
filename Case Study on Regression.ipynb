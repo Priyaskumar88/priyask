{
 "cells": [
  {
   "cell_type": "code",
   "execution_count": 1,
   "id": "d2eee8f4",
   "metadata": {},
   "outputs": [],
   "source": [
    "import pandas as pd\n",
    "import numpy as np\n",
    "import matplotlib.pyplot as plt\n",
    "import seaborn as sns"
   ]
  },
  {
   "cell_type": "code",
   "execution_count": 2,
   "id": "ac4f52fd",
   "metadata": {},
   "outputs": [
    {
     "data": {
      "text/html": [
       "<div>\n",
       "<style scoped>\n",
       "    .dataframe tbody tr th:only-of-type {\n",
       "        vertical-align: middle;\n",
       "    }\n",
       "\n",
       "    .dataframe tbody tr th {\n",
       "        vertical-align: top;\n",
       "    }\n",
       "\n",
       "    .dataframe thead th {\n",
       "        text-align: right;\n",
       "    }\n",
       "</style>\n",
       "<table border=\"1\" class=\"dataframe\">\n",
       "  <thead>\n",
       "    <tr style=\"text-align: right;\">\n",
       "      <th></th>\n",
       "      <th>Year</th>\n",
       "      <th>Price</th>\n",
       "    </tr>\n",
       "  </thead>\n",
       "  <tbody>\n",
       "    <tr>\n",
       "      <th>0</th>\n",
       "      <td>2018</td>\n",
       "      <td>465000</td>\n",
       "    </tr>\n",
       "    <tr>\n",
       "      <th>1</th>\n",
       "      <td>2019</td>\n",
       "      <td>755000</td>\n",
       "    </tr>\n",
       "    <tr>\n",
       "      <th>2</th>\n",
       "      <td>2019</td>\n",
       "      <td>700000</td>\n",
       "    </tr>\n",
       "    <tr>\n",
       "      <th>3</th>\n",
       "      <td>2018</td>\n",
       "      <td>465000</td>\n",
       "    </tr>\n",
       "    <tr>\n",
       "      <th>4</th>\n",
       "      <td>2018</td>\n",
       "      <td>465000</td>\n",
       "    </tr>\n",
       "    <tr>\n",
       "      <th>...</th>\n",
       "      <td>...</td>\n",
       "      <td>...</td>\n",
       "    </tr>\n",
       "    <tr>\n",
       "      <th>107</th>\n",
       "      <td>2016</td>\n",
       "      <td>375000</td>\n",
       "    </tr>\n",
       "    <tr>\n",
       "      <th>108</th>\n",
       "      <td>2014</td>\n",
       "      <td>300000</td>\n",
       "    </tr>\n",
       "    <tr>\n",
       "      <th>109</th>\n",
       "      <td>2015</td>\n",
       "      <td>425000</td>\n",
       "    </tr>\n",
       "    <tr>\n",
       "      <th>110</th>\n",
       "      <td>2016</td>\n",
       "      <td>420000</td>\n",
       "    </tr>\n",
       "    <tr>\n",
       "      <th>111</th>\n",
       "      <td>2015</td>\n",
       "      <td>425000</td>\n",
       "    </tr>\n",
       "  </tbody>\n",
       "</table>\n",
       "<p>112 rows × 2 columns</p>\n",
       "</div>"
      ],
      "text/plain": [
       "     Year   Price\n",
       "0    2018  465000\n",
       "1    2019  755000\n",
       "2    2019  700000\n",
       "3    2018  465000\n",
       "4    2018  465000\n",
       "..    ...     ...\n",
       "107  2016  375000\n",
       "108  2014  300000\n",
       "109  2015  425000\n",
       "110  2016  420000\n",
       "111  2015  425000\n",
       "\n",
       "[112 rows x 2 columns]"
      ]
     },
     "execution_count": 2,
     "metadata": {},
     "output_type": "execute_result"
    }
   ],
   "source": [
    "data=pd.read_csv(r'E:\\DS FILES\\car_age_price.csv')\n",
    "data"
   ]
  },
  {
   "cell_type": "code",
   "execution_count": 3,
   "id": "b87ef419",
   "metadata": {},
   "outputs": [
    {
     "data": {
      "text/plain": [
       "(112, 2)"
      ]
     },
     "execution_count": 3,
     "metadata": {},
     "output_type": "execute_result"
    }
   ],
   "source": [
    "data.shape"
   ]
  },
  {
   "cell_type": "code",
   "execution_count": 7,
   "id": "f0f523fa",
   "metadata": {},
   "outputs": [
    {
     "data": {
      "text/html": [
       "<div>\n",
       "<style scoped>\n",
       "    .dataframe tbody tr th:only-of-type {\n",
       "        vertical-align: middle;\n",
       "    }\n",
       "\n",
       "    .dataframe tbody tr th {\n",
       "        vertical-align: top;\n",
       "    }\n",
       "\n",
       "    .dataframe thead th {\n",
       "        text-align: right;\n",
       "    }\n",
       "</style>\n",
       "<table border=\"1\" class=\"dataframe\">\n",
       "  <thead>\n",
       "    <tr style=\"text-align: right;\">\n",
       "      <th></th>\n",
       "      <th>Year</th>\n",
       "      <th>Price</th>\n",
       "    </tr>\n",
       "  </thead>\n",
       "  <tbody>\n",
       "    <tr>\n",
       "      <th>count</th>\n",
       "      <td>112.000000</td>\n",
       "      <td>112.000000</td>\n",
       "    </tr>\n",
       "    <tr>\n",
       "      <th>mean</th>\n",
       "      <td>2016.669643</td>\n",
       "      <td>483866.044643</td>\n",
       "    </tr>\n",
       "    <tr>\n",
       "      <th>std</th>\n",
       "      <td>1.629616</td>\n",
       "      <td>91217.450533</td>\n",
       "    </tr>\n",
       "    <tr>\n",
       "      <th>min</th>\n",
       "      <td>2013.000000</td>\n",
       "      <td>300000.000000</td>\n",
       "    </tr>\n",
       "    <tr>\n",
       "      <th>25%</th>\n",
       "      <td>2015.000000</td>\n",
       "      <td>423750.000000</td>\n",
       "    </tr>\n",
       "    <tr>\n",
       "      <th>50%</th>\n",
       "      <td>2017.000000</td>\n",
       "      <td>500000.000000</td>\n",
       "    </tr>\n",
       "    <tr>\n",
       "      <th>75%</th>\n",
       "      <td>2017.000000</td>\n",
       "      <td>550000.000000</td>\n",
       "    </tr>\n",
       "    <tr>\n",
       "      <th>max</th>\n",
       "      <td>2020.000000</td>\n",
       "      <td>755000.000000</td>\n",
       "    </tr>\n",
       "  </tbody>\n",
       "</table>\n",
       "</div>"
      ],
      "text/plain": [
       "              Year          Price\n",
       "count   112.000000     112.000000\n",
       "mean   2016.669643  483866.044643\n",
       "std       1.629616   91217.450533\n",
       "min    2013.000000  300000.000000\n",
       "25%    2015.000000  423750.000000\n",
       "50%    2017.000000  500000.000000\n",
       "75%    2017.000000  550000.000000\n",
       "max    2020.000000  755000.000000"
      ]
     },
     "execution_count": 7,
     "metadata": {},
     "output_type": "execute_result"
    }
   ],
   "source": [
    "data.describe()"
   ]
  },
  {
   "cell_type": "code",
   "execution_count": 31,
   "id": "64dd5e6f",
   "metadata": {},
   "outputs": [
    {
     "data": {
      "text/plain": [
       "Year     0\n",
       "Price    0\n",
       "dtype: int64"
      ]
     },
     "execution_count": 31,
     "metadata": {},
     "output_type": "execute_result"
    }
   ],
   "source": [
    "data.isna().sum()"
   ]
  },
  {
   "cell_type": "code",
   "execution_count": 32,
   "id": "1b21fe42",
   "metadata": {},
   "outputs": [
    {
     "name": "stdout",
     "output_type": "stream",
     "text": [
      "<class 'pandas.core.frame.DataFrame'>\n",
      "RangeIndex: 112 entries, 0 to 111\n",
      "Data columns (total 2 columns):\n",
      " #   Column  Non-Null Count  Dtype\n",
      "---  ------  --------------  -----\n",
      " 0   Year    112 non-null    int64\n",
      " 1   Price   112 non-null    int64\n",
      "dtypes: int64(2)\n",
      "memory usage: 1.9 KB\n"
     ]
    }
   ],
   "source": [
    "data.info()"
   ]
  },
  {
   "cell_type": "markdown",
   "id": "91ad2489",
   "metadata": {},
   "source": [
    "# Find the best linear relationship between year and price."
   ]
  },
  {
   "cell_type": "code",
   "execution_count": 4,
   "id": "0e3597db",
   "metadata": {},
   "outputs": [
    {
     "data": {
      "image/png": "[encoded data removed]",
      "text/plain": [
       "<Figure size 640x480 with 1 Axes>"
      ]
     },
     "metadata": {},
     "output_type": "display_data"
    }
   ],
   "source": [
    "data.plot.scatter(x='Year', y='Price',title='Scatterplot of Year and Price percentages')\n",
    "plt.show() "
   ]
  },
  {
   "cell_type": "markdown",
   "id": "5a21562d",
   "metadata": {},
   "source": [
    "# This plot show Positive Correlation between year and price."
   ]
  },
  {
   "cell_type": "code",
   "execution_count": 5,
   "id": "700ef22d",
   "metadata": {},
   "outputs": [
    {
     "data": {
      "image/png": "[encoded data removed]",
      "text/plain": [
       "<Figure size 640x480 with 1 Axes>"
      ]
     },
     "metadata": {},
     "output_type": "display_data"
    }
   ],
   "source": [
    "sns.regplot(x='Year', y='Price', data=data).set(title='Scatterplot of Year and Price percentages')\n",
    "plt.show() "
   ]
  },
  {
   "cell_type": "code",
   "execution_count": 6,
   "id": "412a4165",
   "metadata": {},
   "outputs": [
    {
     "data": {
      "text/html": [
       "<div>\n",
       "<style scoped>\n",
       "    .dataframe tbody tr th:only-of-type {\n",
       "        vertical-align: middle;\n",
       "    }\n",
       "\n",
       "    .dataframe tbody tr th {\n",
       "        vertical-align: top;\n",
       "    }\n",
       "\n",
       "    .dataframe thead th {\n",
       "        text-align: right;\n",
       "    }\n",
       "</style>\n",
       "<table border=\"1\" class=\"dataframe\">\n",
       "  <thead>\n",
       "    <tr style=\"text-align: right;\">\n",
       "      <th></th>\n",
       "      <th>Year</th>\n",
       "      <th>Price</th>\n",
       "    </tr>\n",
       "  </thead>\n",
       "  <tbody>\n",
       "    <tr>\n",
       "      <th>Year</th>\n",
       "      <td>1.000000</td>\n",
       "      <td>0.776302</td>\n",
       "    </tr>\n",
       "    <tr>\n",
       "      <th>Price</th>\n",
       "      <td>0.776302</td>\n",
       "      <td>1.000000</td>\n",
       "    </tr>\n",
       "  </tbody>\n",
       "</table>\n",
       "</div>"
      ],
      "text/plain": [
       "           Year     Price\n",
       "Year   1.000000  0.776302\n",
       "Price  0.776302  1.000000"
      ]
     },
     "execution_count": 6,
     "metadata": {},
     "output_type": "execute_result"
    }
   ],
   "source": [
    "data.corr()"
   ]
  },
  {
   "cell_type": "code",
   "execution_count": 45,
   "id": "bc74ab22",
   "metadata": {},
   "outputs": [],
   "source": [
    "#Spliting data into freature and target\n",
    "y=data['Price']  #target /output\n",
    "X=data.drop(['Price'],axis=1)"
   ]
  },
  {
   "cell_type": "code",
   "execution_count": 47,
   "id": "712c9449",
   "metadata": {},
   "outputs": [
    {
     "data": {
      "text/html": [
       "<div>\n",
       "<style scoped>\n",
       "    .dataframe tbody tr th:only-of-type {\n",
       "        vertical-align: middle;\n",
       "    }\n",
       "\n",
       "    .dataframe tbody tr th {\n",
       "        vertical-align: top;\n",
       "    }\n",
       "\n",
       "    .dataframe thead th {\n",
       "        text-align: right;\n",
       "    }\n",
       "</style>\n",
       "<table border=\"1\" class=\"dataframe\">\n",
       "  <thead>\n",
       "    <tr style=\"text-align: right;\">\n",
       "      <th></th>\n",
       "      <th>Year</th>\n",
       "    </tr>\n",
       "  </thead>\n",
       "  <tbody>\n",
       "    <tr>\n",
       "      <th>0</th>\n",
       "      <td>2018</td>\n",
       "    </tr>\n",
       "    <tr>\n",
       "      <th>1</th>\n",
       "      <td>2019</td>\n",
       "    </tr>\n",
       "    <tr>\n",
       "      <th>2</th>\n",
       "      <td>2019</td>\n",
       "    </tr>\n",
       "    <tr>\n",
       "      <th>3</th>\n",
       "      <td>2018</td>\n",
       "    </tr>\n",
       "    <tr>\n",
       "      <th>4</th>\n",
       "      <td>2018</td>\n",
       "    </tr>\n",
       "  </tbody>\n",
       "</table>\n",
       "</div>"
      ],
      "text/plain": [
       "   Year\n",
       "0  2018\n",
       "1  2019\n",
       "2  2019\n",
       "3  2018\n",
       "4  2018"
      ]
     },
     "execution_count": 47,
     "metadata": {},
     "output_type": "execute_result"
    }
   ],
   "source": [
    "X.head()"
   ]
  },
  {
   "cell_type": "code",
   "execution_count": 48,
   "id": "c9bdf6e6",
   "metadata": {},
   "outputs": [
    {
     "data": {
      "text/plain": [
       "0    465000\n",
       "1    755000\n",
       "2    700000\n",
       "3    465000\n",
       "4    465000\n",
       "Name: Price, dtype: int64"
      ]
     },
     "execution_count": 48,
     "metadata": {},
     "output_type": "execute_result"
    }
   ],
   "source": [
    "y.head()"
   ]
  },
  {
   "cell_type": "code",
   "execution_count": 34,
   "id": "0799f506",
   "metadata": {},
   "outputs": [],
   "source": [
    "y = data['Price'].values.reshape(-1, 1)  # change to  array form\n",
    "X = data['Year'].values.reshape(-1, 1)"
   ]
  },
  {
   "cell_type": "code",
   "execution_count": 41,
   "id": "d8e71233",
   "metadata": {},
   "outputs": [
    {
     "data": {
      "text/plain": [
       "numpy.ndarray"
      ]
     },
     "execution_count": 41,
     "metadata": {},
     "output_type": "execute_result"
    }
   ],
   "source": [
    "type(X)"
   ]
  },
  {
   "cell_type": "code",
   "execution_count": 42,
   "id": "7cf4b567",
   "metadata": {},
   "outputs": [
    {
     "data": {
      "text/plain": [
       "numpy.ndarray"
      ]
     },
     "execution_count": 42,
     "metadata": {},
     "output_type": "execute_result"
    }
   ],
   "source": [
    "type(y)"
   ]
  },
  {
   "cell_type": "code",
   "execution_count": 12,
   "id": "4660d7b3",
   "metadata": {},
   "outputs": [
    {
     "data": {
      "text/plain": [
       "array([2018, 2019, 2019, 2018, 2018, 2015, 2016, 2017, 2017, 2017, 2019,\n",
       "       2018, 2017, 2019, 2017, 2017, 2017, 2017, 2019, 2017, 2018, 2019,\n",
       "       2015, 2017, 2017, 2017, 2017, 2017, 2017, 2017, 2019, 2017, 2017,\n",
       "       2017, 2017, 2017, 2017, 2017, 2018, 2020, 2019, 2019, 2018, 2019,\n",
       "       2019, 2018, 2019, 2018, 2016, 2018, 2013, 2018, 2013, 2013, 2017,\n",
       "       2017, 2014, 2017, 2014, 2016, 2015, 2017, 2017, 2017, 2015, 2017,\n",
       "       2017, 2015, 2015, 2015, 2015, 2017, 2015, 2013, 2017, 2017, 2015,\n",
       "       2015, 2015, 2015, 2015, 2014, 2015, 2017, 2015, 2015, 2017, 2017,\n",
       "       2017, 2017, 2017, 2017, 2017, 2017, 2017, 2017, 2017, 2020, 2020,\n",
       "       2020, 2016, 2015, 2015, 2017, 2014, 2014, 2015, 2016, 2014, 2015,\n",
       "       2016, 2015], dtype=int64)"
      ]
     },
     "execution_count": 12,
     "metadata": {},
     "output_type": "execute_result"
    }
   ],
   "source": [
    "data['Year'].values"
   ]
  },
  {
   "cell_type": "code",
   "execution_count": 13,
   "id": "915587e5",
   "metadata": {},
   "outputs": [
    {
     "data": {
      "text/plain": [
       "array([465000, 755000, 700000, 465000, 465000, 350000, 425000, 575000,\n",
       "       509999, 575000, 500000, 500000, 500000, 600000, 475000, 500000,\n",
       "       500000, 550000, 500000, 500000, 500000, 500000, 434999, 550000,\n",
       "       550000, 550000, 550000, 550000, 550000, 550000, 650000, 550000,\n",
       "       550000, 550000, 450000, 550000, 550000, 486000, 475000, 545000,\n",
       "       525000, 600000, 550000, 550000, 550000, 450000, 500000, 450000,\n",
       "       396000, 600000, 325000, 550000, 345000, 345000, 525000, 550000,\n",
       "       341000, 550000, 450000, 550000, 490000, 540000, 540000, 595000,\n",
       "       490000, 495000, 525000, 400000, 465000, 300000, 450000, 490000,\n",
       "       300000, 320000, 490000, 490000, 450000, 325000, 409999, 400000,\n",
       "       390000, 390000, 390000, 480000, 325000, 320000, 520000, 520000,\n",
       "       520000, 520000, 520000, 520000, 520000, 520000, 520000, 520000,\n",
       "       520000, 640000, 700000, 600000, 350000, 400000, 350000, 375000,\n",
       "       400000, 400000, 300000, 375000, 300000, 425000, 420000, 425000],\n",
       "      dtype=int64)"
      ]
     },
     "execution_count": 13,
     "metadata": {},
     "output_type": "execute_result"
    }
   ],
   "source": [
    "data['Price'].values"
   ]
  },
  {
   "cell_type": "markdown",
   "id": "4b9100e8",
   "metadata": {},
   "source": [
    "# Linear regression model"
   ]
  },
  {
   "cell_type": "code",
   "execution_count": 14,
   "id": "7d9884a0",
   "metadata": {},
   "outputs": [],
   "source": [
    "from sklearn.model_selection import train_test_split\n",
    "X_train,X_test,y_train,y_test=train_test_split(X,y,test_size=0.2,random_state=42)\n",
    "from sklearn.metrics  import mean_squared_error, r2_score,mean_absolute_error"
   ]
  },
  {
   "cell_type": "code",
   "execution_count": 15,
   "id": "bca02c38",
   "metadata": {},
   "outputs": [],
   "source": [
    "from sklearn.linear_model import LinearRegression\n",
    "lr=LinearRegression()\n",
    "model=lr.fit(X_train,y_train)\n",
    "y_pred=model.predict(X_test)\n"
   ]
  },
  {
   "cell_type": "code",
   "execution_count": 16,
   "id": "7e26e415",
   "metadata": {},
   "outputs": [
    {
     "name": "stdout",
     "output_type": "stream",
     "text": [
      "MSE is: 4326906256.829671\n",
      "R squared  is: 0.36759313425902185\n",
      "MAE is: 53534.77957001264\n"
     ]
    }
   ],
   "source": [
    "print('MSE is:', mean_squared_error(y_test,y_pred))\n",
    "print('R squared  is:', r2_score(y_test,y_pred))\n",
    "print('MAE is:', mean_absolute_error(y_test,y_pred))"
   ]
  },
  {
   "cell_type": "markdown",
   "id": "bce9eaef",
   "metadata": {},
   "source": [
    "# Graph for linear reggersion train and test sets"
   ]
  },
  {
   "cell_type": "code",
   "execution_count": 17,
   "id": "a502904f",
   "metadata": {},
   "outputs": [
    {
     "data": {
      "image/png": "[encoded data removed]",
      "text/plain": [
       "<Figure size 640x480 with 2 Axes>"
      ]
     },
     "metadata": {},
     "output_type": "display_data"
    }
   ],
   "source": [
    "\n",
    "#plot for the train:\n",
    "plt.subplot(1, 2, 1)\n",
    "plt.scatter(X_train, y_train, color='red') # plotting the observation line \n",
    "plt.plot(X_train, model.predict(X_train), color='blue') # plotting the regression line\n",
    " \n",
    "plt.title(\"Price vs Year (Training set)\") # stating the title of the graph\n",
    " \n",
    "plt.xlabel('Price') # adding the name of x-axis\n",
    "plt.ylabel('Year') # adding the name of y-axis\n",
    "\n",
    "#plot for the TEST\n",
    "plt.subplot(1, 2, 2) \n",
    "plt.scatter(X_test, y_test, color='red') \n",
    "plt.plot(X_train, model.predict(X_train), color='blue')\n",
    "\n",
    "plt.title(\"Price vs Year(Testing set)\") \n",
    "plt.xlabel('Price') \n",
    "plt.ylabel('Year') \n",
    "\n",
    "plt.tight_layout()\n",
    "plt.show() \n"
   ]
  },
  {
   "cell_type": "markdown",
   "id": "57d46bf0",
   "metadata": {},
   "source": [
    "# Can you predict the possible price of a 2022 model second-hand grand i10?"
   ]
  },
  {
   "cell_type": "code",
   "execution_count": 18,
   "id": "bb78f3e4",
   "metadata": {
    "scrolled": true
   },
   "outputs": [
    {
     "name": "stdout",
     "output_type": "stream",
     "text": [
      " Possible price of a 2022 model second-hand grand i10 : [[743601.61594504]]\n"
     ]
    }
   ],
   "source": [
    "price=lr.predict([[2022]]) \n",
    "print(' Possible price of a 2022 model second-hand grand i10 :',price)"
   ]
  },
  {
   "cell_type": "markdown",
   "id": "35ea47e6",
   "metadata": {},
   "source": [
    "# Lasso regression model"
   ]
  },
  {
   "cell_type": "code",
   "execution_count": 19,
   "id": "564fc554",
   "metadata": {},
   "outputs": [],
   "source": [
    "from sklearn.linear_model import Lasso\n",
    "lasso = Lasso(alpha=1)\n",
    "model_lasso=lasso.fit(X_train, y_train)\n",
    "y_pred_lasso=model_lasso.predict(X_test)\n"
   ]
  },
  {
   "cell_type": "code",
   "execution_count": 20,
   "id": "c10b71fd",
   "metadata": {},
   "outputs": [
    {
     "name": "stdout",
     "output_type": "stream",
     "text": [
      "MSE is: 4326859771.015669\n",
      "R squared  is: 0.3675999284778446\n",
      "MAE is: 53534.33030898286\n"
     ]
    }
   ],
   "source": [
    "print('MSE is:', mean_squared_error(y_test,y_pred_lasso))\n",
    "print('R squared  is:', r2_score(y_test,y_pred_lasso))\n",
    "print('MAE is:', mean_absolute_error(y_test,y_pred_lasso))"
   ]
  },
  {
   "cell_type": "markdown",
   "id": "31cc173c",
   "metadata": {},
   "source": [
    "\n",
    "'''MAE (Mean Absolute Error) is the mean absolute difference between the actual and the predicted value, \n",
    "  whilst MAPE (Mean Absolute Percentage Error) is the mean absolute percentage difference between the \n",
    "  actual and the predicted value. MAPE can be used to find the accurary of the regression'''"
   ]
  },
  {
   "cell_type": "markdown",
   "id": "3b5b5082",
   "metadata": {},
   "source": [
    "# Find out which one is performing better between linear and lasso regression"
   ]
  },
  {
   "cell_type": "code",
   "execution_count": 21,
   "id": "a08c88a7",
   "metadata": {},
   "outputs": [],
   "source": [
    "def MAPE(Y_actual,Y_Predicted):\n",
    "    mape = np.mean(np.abs((Y_actual - Y_Predicted)/Y_actual))*100\n",
    "    return mape"
   ]
  },
  {
   "cell_type": "code",
   "execution_count": 22,
   "id": "72f56c27",
   "metadata": {},
   "outputs": [
    {
     "name": "stdout",
     "output_type": "stream",
     "text": [
      "MAPE value:  11.931971887668066\n",
      "Accuracy of Linear Regression: 88.07%.\n"
     ]
    }
   ],
   "source": [
    "MAPE = MAPE(y_test,y_pred)\n",
    "print(\"MAPE value: \",MAPE)\n",
    "Accuracy = 100 - MAPE\n",
    "print('Accuracy of Linear Regression: {:0.2f}%.'.format(Accuracy))"
   ]
  },
  {
   "cell_type": "code",
   "execution_count": 26,
   "id": "d74388cb",
   "metadata": {},
   "outputs": [
    {
     "name": "stdout",
     "output_type": "stream",
     "text": [
      "MAPE value:  22.267173884611594\n",
      "Accuracy of Lasso Regression: 77.73%.\n"
     ]
    }
   ],
   "source": [
    "Lasso_MAPE = MAPE(y_test,y_pred_lasso)\n",
    "print(\"MAPE value: \",Lasso_MAPE)\n",
    "Accuracy = 100 - Lasso_MAPE\n",
    "print('Accuracy of Lasso Regression: {:0.2f}%.'.format(Accuracy))"
   ]
  },
  {
   "cell_type": "markdown",
   "id": "af0bb1db",
   "metadata": {},
   "source": [
    "The the above we can see that linear regression is more accurate than lasso regression"
   ]
  },
  {
   "cell_type": "code",
   "execution_count": 28,
   "id": "743ad74c",
   "metadata": {},
   "outputs": [],
   "source": [
    "from IPython.display import display_html\n",
    "from itertools import chain,cycle\n",
    "def display_side_by_side(*args,titles=cycle([''])):\n",
    "    html_str=''\n",
    "    for df,title in zip(args, chain(titles,cycle(['</br>'])) ):\n",
    "        html_str+='<th style=\"text-align:center\"><td style=\"vertical-align:top\">'\n",
    "        html_str+=f'<h2 style=\"text-align: center;\">{title}</h2>'\n",
    "        html_str+=df.to_html().replace('table','table style=\"display:inline\"')\n",
    "        html_str+='</td></th>'\n",
    "    display_html(html_str,raw=True)\n",
    "  "
   ]
  },
  {
   "cell_type": "code",
   "execution_count": 29,
   "id": "c856fa74",
   "metadata": {},
   "outputs": [
    {
     "data": {
      "text/html": [
       "<th style=\"text-align:center\"><td style=\"vertical-align:top\"><h2 style=\"text-align: center;\">Linear test model </h2><table style=\"display:inline\" border=\"1\" class=\"dataframe\">\n",
       "  <thead>\n",
       "    <tr style=\"text-align: right;\">\n",
       "      <th></th>\n",
       "      <th>Actual</th>\n",
       "      <th>Predicted</th>\n",
       "      <th>Diff</th>\n",
       "    </tr>\n",
       "  </thead>\n",
       "  <tbody>\n",
       "    <tr>\n",
       "      <th>0</th>\n",
       "      <td>525000</td>\n",
       "      <td>600775.912521</td>\n",
       "      <td>75775.912521</td>\n",
       "    </tr>\n",
       "    <tr>\n",
       "      <th>1</th>\n",
       "      <td>495000</td>\n",
       "      <td>505558.776905</td>\n",
       "      <td>10558.776905</td>\n",
       "    </tr>\n",
       "    <tr>\n",
       "      <th>2</th>\n",
       "      <td>465000</td>\n",
       "      <td>553167.344713</td>\n",
       "      <td>88167.344713</td>\n",
       "    </tr>\n",
       "    <tr>\n",
       "      <th>3</th>\n",
       "      <td>450000</td>\n",
       "      <td>553167.344713</td>\n",
       "      <td>103167.344713</td>\n",
       "    </tr>\n",
       "    <tr>\n",
       "      <th>4</th>\n",
       "      <td>550000</td>\n",
       "      <td>553167.344713</td>\n",
       "      <td>3167.344713</td>\n",
       "    </tr>\n",
       "    <tr>\n",
       "      <th>5</th>\n",
       "      <td>300000</td>\n",
       "      <td>410341.641289</td>\n",
       "      <td>110341.641289</td>\n",
       "    </tr>\n",
       "    <tr>\n",
       "      <th>6</th>\n",
       "      <td>550000</td>\n",
       "      <td>505558.776905</td>\n",
       "      <td>-44441.223095</td>\n",
       "    </tr>\n",
       "    <tr>\n",
       "      <th>7</th>\n",
       "      <td>500000</td>\n",
       "      <td>553167.344713</td>\n",
       "      <td>53167.344713</td>\n",
       "    </tr>\n",
       "    <tr>\n",
       "      <th>8</th>\n",
       "      <td>500000</td>\n",
       "      <td>600775.912521</td>\n",
       "      <td>100775.912521</td>\n",
       "    </tr>\n",
       "    <tr>\n",
       "      <th>9</th>\n",
       "      <td>550000</td>\n",
       "      <td>600775.912521</td>\n",
       "      <td>50775.912521</td>\n",
       "    </tr>\n",
       "    <tr>\n",
       "      <th>10</th>\n",
       "      <td>320000</td>\n",
       "      <td>315124.505672</td>\n",
       "      <td>-4875.494328</td>\n",
       "    </tr>\n",
       "    <tr>\n",
       "      <th>11</th>\n",
       "      <td>550000</td>\n",
       "      <td>505558.776905</td>\n",
       "      <td>-44441.223095</td>\n",
       "    </tr>\n",
       "    <tr>\n",
       "      <th>12</th>\n",
       "      <td>465000</td>\n",
       "      <td>410341.641289</td>\n",
       "      <td>-54658.358711</td>\n",
       "    </tr>\n",
       "    <tr>\n",
       "      <th>13</th>\n",
       "      <td>640000</td>\n",
       "      <td>648384.480329</td>\n",
       "      <td>8384.480329</td>\n",
       "    </tr>\n",
       "    <tr>\n",
       "      <th>14</th>\n",
       "      <td>465000</td>\n",
       "      <td>553167.344713</td>\n",
       "      <td>88167.344713</td>\n",
       "    </tr>\n",
       "    <tr>\n",
       "      <th>15</th>\n",
       "      <td>500000</td>\n",
       "      <td>600775.912521</td>\n",
       "      <td>100775.912521</td>\n",
       "    </tr>\n",
       "    <tr>\n",
       "      <th>16</th>\n",
       "      <td>345000</td>\n",
       "      <td>315124.505672</td>\n",
       "      <td>-29875.494328</td>\n",
       "    </tr>\n",
       "    <tr>\n",
       "      <th>17</th>\n",
       "      <td>390000</td>\n",
       "      <td>410341.641289</td>\n",
       "      <td>20341.641289</td>\n",
       "    </tr>\n",
       "    <tr>\n",
       "      <th>18</th>\n",
       "      <td>375000</td>\n",
       "      <td>505558.776905</td>\n",
       "      <td>130558.776905</td>\n",
       "    </tr>\n",
       "    <tr>\n",
       "      <th>19</th>\n",
       "      <td>520000</td>\n",
       "      <td>505558.776905</td>\n",
       "      <td>-14441.223095</td>\n",
       "    </tr>\n",
       "    <tr>\n",
       "      <th>20</th>\n",
       "      <td>550000</td>\n",
       "      <td>505558.776905</td>\n",
       "      <td>-44441.223095</td>\n",
       "    </tr>\n",
       "    <tr>\n",
       "      <th>21</th>\n",
       "      <td>500000</td>\n",
       "      <td>505558.776905</td>\n",
       "      <td>5558.776905</td>\n",
       "    </tr>\n",
       "    <tr>\n",
       "      <th>22</th>\n",
       "      <td>550000</td>\n",
       "      <td>505558.776905</td>\n",
       "      <td>-44441.223095</td>\n",
       "    </tr>\n",
       "  </tbody>\n",
       "</table style=\"display:inline\"></td></th><th style=\"text-align:center\"><td style=\"vertical-align:top\"><h2 style=\"text-align: center;\">Lasso test model </h2><table style=\"display:inline\" border=\"1\" class=\"dataframe\">\n",
       "  <thead>\n",
       "    <tr style=\"text-align: right;\">\n",
       "      <th></th>\n",
       "      <th>Actual</th>\n",
       "      <th>Predicted</th>\n",
       "      <th>Diff</th>\n",
       "    </tr>\n",
       "  </thead>\n",
       "  <tbody>\n",
       "    <tr>\n",
       "      <th>0</th>\n",
       "      <td>525000</td>\n",
       "      <td>600774.907473</td>\n",
       "      <td>75774.907473</td>\n",
       "    </tr>\n",
       "    <tr>\n",
       "      <th>1</th>\n",
       "      <td>495000</td>\n",
       "      <td>505558.596274</td>\n",
       "      <td>10558.596274</td>\n",
       "    </tr>\n",
       "    <tr>\n",
       "      <th>2</th>\n",
       "      <td>465000</td>\n",
       "      <td>553166.751873</td>\n",
       "      <td>88166.751873</td>\n",
       "    </tr>\n",
       "    <tr>\n",
       "      <th>3</th>\n",
       "      <td>450000</td>\n",
       "      <td>553166.751873</td>\n",
       "      <td>103166.751873</td>\n",
       "    </tr>\n",
       "    <tr>\n",
       "      <th>4</th>\n",
       "      <td>550000</td>\n",
       "      <td>553166.751873</td>\n",
       "      <td>3166.751873</td>\n",
       "    </tr>\n",
       "    <tr>\n",
       "      <th>5</th>\n",
       "      <td>300000</td>\n",
       "      <td>410342.285075</td>\n",
       "      <td>110342.285075</td>\n",
       "    </tr>\n",
       "    <tr>\n",
       "      <th>6</th>\n",
       "      <td>550000</td>\n",
       "      <td>505558.596274</td>\n",
       "      <td>-44441.403726</td>\n",
       "    </tr>\n",
       "    <tr>\n",
       "      <th>7</th>\n",
       "      <td>500000</td>\n",
       "      <td>553166.751873</td>\n",
       "      <td>53166.751873</td>\n",
       "    </tr>\n",
       "    <tr>\n",
       "      <th>8</th>\n",
       "      <td>500000</td>\n",
       "      <td>600774.907473</td>\n",
       "      <td>100774.907473</td>\n",
       "    </tr>\n",
       "    <tr>\n",
       "      <th>9</th>\n",
       "      <td>550000</td>\n",
       "      <td>600774.907473</td>\n",
       "      <td>50774.907473</td>\n",
       "    </tr>\n",
       "    <tr>\n",
       "      <th>10</th>\n",
       "      <td>320000</td>\n",
       "      <td>315125.973876</td>\n",
       "      <td>-4874.026124</td>\n",
       "    </tr>\n",
       "    <tr>\n",
       "      <th>11</th>\n",
       "      <td>550000</td>\n",
       "      <td>505558.596274</td>\n",
       "      <td>-44441.403726</td>\n",
       "    </tr>\n",
       "    <tr>\n",
       "      <th>12</th>\n",
       "      <td>465000</td>\n",
       "      <td>410342.285075</td>\n",
       "      <td>-54657.714925</td>\n",
       "    </tr>\n",
       "    <tr>\n",
       "      <th>13</th>\n",
       "      <td>640000</td>\n",
       "      <td>648383.063072</td>\n",
       "      <td>8383.063072</td>\n",
       "    </tr>\n",
       "    <tr>\n",
       "      <th>14</th>\n",
       "      <td>465000</td>\n",
       "      <td>553166.751873</td>\n",
       "      <td>88166.751873</td>\n",
       "    </tr>\n",
       "    <tr>\n",
       "      <th>15</th>\n",
       "      <td>500000</td>\n",
       "      <td>600774.907473</td>\n",
       "      <td>100774.907473</td>\n",
       "    </tr>\n",
       "    <tr>\n",
       "      <th>16</th>\n",
       "      <td>345000</td>\n",
       "      <td>315125.973876</td>\n",
       "      <td>-29874.026124</td>\n",
       "    </tr>\n",
       "    <tr>\n",
       "      <th>17</th>\n",
       "      <td>390000</td>\n",
       "      <td>410342.285075</td>\n",
       "      <td>20342.285075</td>\n",
       "    </tr>\n",
       "    <tr>\n",
       "      <th>18</th>\n",
       "      <td>375000</td>\n",
       "      <td>505558.596274</td>\n",
       "      <td>130558.596274</td>\n",
       "    </tr>\n",
       "    <tr>\n",
       "      <th>19</th>\n",
       "      <td>520000</td>\n",
       "      <td>505558.596274</td>\n",
       "      <td>-14441.403726</td>\n",
       "    </tr>\n",
       "    <tr>\n",
       "      <th>20</th>\n",
       "      <td>550000</td>\n",
       "      <td>505558.596274</td>\n",
       "      <td>-44441.403726</td>\n",
       "    </tr>\n",
       "    <tr>\n",
       "      <th>21</th>\n",
       "      <td>500000</td>\n",
       "      <td>505558.596274</td>\n",
       "      <td>5558.596274</td>\n",
       "    </tr>\n",
       "    <tr>\n",
       "      <th>22</th>\n",
       "      <td>550000</td>\n",
       "      <td>505558.596274</td>\n",
       "      <td>-44441.403726</td>\n",
       "    </tr>\n",
       "  </tbody>\n",
       "</table style=\"display:inline\"></td></th>"
      ]
     },
     "metadata": {},
     "output_type": "display_data"
    }
   ],
   "source": [
    "data_preds = pd.DataFrame({'Actual': y_test.squeeze(), 'Predicted': y_pred.squeeze(),'Diff':(y_pred.squeeze()-y_test.squeeze()) })\n",
    "data_preds1 = pd.DataFrame({'Actual': y_test.squeeze(), 'Predicted': y_pred_lasso.squeeze(),'Diff':(y_pred_lasso.squeeze()-y_test.squeeze())})\n",
    "display_side_by_side(data_preds,data_preds1, titles=['Linear test model ','Lasso test model '])"
   ]
  }
 ],
 "metadata": {
  "kernelspec": {
   "display_name": "Python 3 (ipykernel)",
   "language": "python",
   "name": "python3"
  },
  "language_info": {
   "codemirror_mode": {
    "name": "ipython",
    "version": 3
   },
   "file_extension": ".py",
   "mimetype": "text/x-python",
   "name": "python",
   "nbconvert_exporter": "python",
   "pygments_lexer": "ipython3",
   "version": "3.9.13"
  }
 },
 "nbformat": 4,
 "nbformat_minor": 5
}
